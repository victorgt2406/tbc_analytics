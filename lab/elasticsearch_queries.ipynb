{
 "cells": [
  {
   "cell_type": "markdown",
   "metadata": {},
   "source": [
    "# Elasticsearch Queries\n"
   ]
  },
  {
   "cell_type": "markdown",
   "metadata": {},
   "source": [
    "## Setup\n"
   ]
  },
  {
   "cell_type": "code",
   "execution_count": 1,
   "metadata": {},
   "outputs": [
    {
     "name": "stdout",
     "output_type": "stream",
     "text": [
      "Elasticsearch: Connection sucessful\n"
     ]
    }
   ],
   "source": [
    "from datetime import datetime, timezone\n",
    "from elasticsearch import Elasticsearch\n",
    "import sys\n",
    "sys.path.append('..')\n",
    "import os\n",
    "os.chdir('../')\n",
    "from connectors.elk import Elk\n",
    "elk = Elk()\n",
    "es:Elasticsearch = elk.es"
   ]
  },
  {
   "cell_type": "markdown",
   "metadata": {},
   "source": [
    "# Queries (search)"
   ]
  },
  {
   "cell_type": "markdown",
   "metadata": {
    "jp-MarkdownHeadingCollapsed": true
   },
   "source": [
    "## BORKED Users not connected from more than X days (ms_signins)\n"
   ]
  },
  {
   "cell_type": "code",
   "execution_count": 3,
   "metadata": {},
   "outputs": [
    {
     "name": "stdout",
     "output_type": "stream",
     "text": [
      "('77d6c11b-92a4-45c6-be2e-e6043f11ff00', 'Cabral, Ivonne', '', '2024-01-25T14:02:57.000Z')\n",
      "('90042398-f05b-4405-8690-f695079ff3e4', 'tdg.galera1', '', '2024-01-25T14:22:30.000Z')\n",
      "('517439f8-c726-4f42-a251-3f7de24b1015', 'Gutierres Tovar, Victor', '', '2024-01-26T09:34:00.000Z')\n"
     ]
    }
   ],
   "source": [
    "from datetime import datetime, timedelta\n",
    "\n",
    "# Definición de la consulta con top_hits para obtener detalles adicionales\n",
    "query = {\n",
    "    \"size\": 0,\n",
    "    \"aggs\": {\n",
    "        \"users\": {\n",
    "            \"terms\": {\n",
    "                \"field\": \"userId.keyword\",\n",
    "                \"size\": 10000  # Ajusta este número según la cantidad esperada de usuarios\n",
    "            },\n",
    "            \"aggs\": {\n",
    "                \"latest_login\": {\n",
    "                    \"max\": {\n",
    "                        \"field\": \"@timestamp\"\n",
    "                    }\n",
    "                },\n",
    "                \"top_user_info\": {\n",
    "                    \"top_hits\": {\n",
    "                        \"sort\": [\n",
    "                            {\n",
    "                                \"@timestamp\": {\n",
    "                                    \"order\": \"desc\"\n",
    "                                }\n",
    "                            }\n",
    "                        ],\n",
    "                        \"_source\": {\n",
    "                            \"includes\": [\"userDisplayName\", \"deviceDetail.displayName\"]\n",
    "                        },\n",
    "                        \"size\": 1\n",
    "                    }\n",
    "                }\n",
    "            }\n",
    "        }\n",
    "    }\n",
    "}\n",
    "\n",
    "# Realiza la consulta\n",
    "# Asegúrate de cambiarlo por el nombre real de tu índice\n",
    "new_index_name = \"logs-ms_singins\"\n",
    "result = es.search(index=new_index_name, body=query)\n",
    "\n",
    "# Extrae y ordena los resultados por la fecha de última conexión de manera ascendente\n",
    "users_last_login = []\n",
    "for bucket in result['aggregations']['users']['buckets']:\n",
    "    user_id = bucket['key']\n",
    "    last_login_timestamp = bucket['latest_login']['value_as_string']\n",
    "    user_info = bucket['top_user_info']['hits']['hits'][0]['_source']\n",
    "    user_display_name = user_info.get('userDisplayName', 'N/A')\n",
    "    device_display_name = user_info.get(\n",
    "        'deviceDetail', {}).get('displayName', 'N/A')\n",
    "    users_last_login.append(\n",
    "        (user_id, user_display_name, device_display_name, last_login_timestamp))\n",
    "\n",
    "# Ordena por la fecha de última conexión de manera ascendente\n",
    "users_last_login_sorted = sorted(users_last_login, key=lambda x: x[3])\n",
    "\n",
    "# Define el formato de fecha utilizado en tus timestamps\n",
    "fecha_formato = \"%Y-%m-%dT%H:%M:%S.%fZ\"\n",
    "\n",
    "# Calcula la fecha límite para los usuarios inactivos (hace más de 30 días)\n",
    "limite_inactividad = datetime.now() - timedelta(days=30)\n",
    "\n",
    "# Filtra los usuarios inactivos por más de 30 días\n",
    "usuarios_inactivos = []\n",
    "for user in users_last_login_sorted:\n",
    "    user_id, user_display_name, device_display_name, last_login_str = user\n",
    "    last_login = datetime.strptime(last_login_str, fecha_formato)\n",
    "\n",
    "    if last_login < limite_inactividad:\n",
    "        usuarios_inactivos.append(user)\n",
    "\n",
    "# Imprime los usuarios inactivos\n",
    "for user in usuarios_inactivos:\n",
    "    print(user)"
   ]
  },
  {
   "cell_type": "markdown",
   "metadata": {
    "jp-MarkdownHeadingCollapsed": true
   },
   "source": [
    "## Last connection from a user\n"
   ]
  },
  {
   "cell_type": "code",
   "execution_count": null,
   "metadata": {},
   "outputs": [],
   "source": [
    "# Define el userId para el cual quieres obtener la última conexión\n",
    "user_id = \"21bf1acf-0ebe-420e-b385-9d4014a11406\"\n",
    "\n",
    "# Construye la consulta\n",
    "query = {\n",
    "    \"query\": {\n",
    "        \"match\": {\n",
    "            \"userId\": user_id\n",
    "        }\n",
    "    },\n",
    "    \"sort\": [\n",
    "        {\n",
    "            \"@timestamp\": {\n",
    "                \"order\": \"desc\"\n",
    "            }\n",
    "        }\n",
    "    ],\n",
    "    \"size\": 1\n",
    "}\n",
    "\n",
    "# Realiza la consulta al índice deseado\n",
    "new_index_name = \"logs-ms_singins\"\n",
    "response = es.search(index=new_index_name, body=query)\n",
    "\n",
    "\n",
    "print(json.dumps(dict(response), indent=4))\n",
    "\n",
    "# Extrae y muestra la información relevante de la respuesta\n",
    "if response[\"hits\"][\"hits\"]:\n",
    "    last_login = response[\"hits\"][\"hits\"][0][\"_source\"]\n",
    "    print(f\"Última conexión de {last_login['userDisplayName']} ({last_login['userPrincipalName']}):\")\n",
    "    print(f\"Fecha y hora: {last_login['@timestamp']}\")\n",
    "    print(f\"IP: {last_login['ipAddress']}\")\n",
    "    print(f\"Dispositivo: {last_login['deviceDetail']['displayName']}, {last_login['deviceDetail']['operatingSystem']}\")\n",
    "else:\n",
    "    print(\"No se encontraron conexiones para el usuario especificado.\")"
   ]
  },
  {
   "cell_type": "markdown",
   "metadata": {},
   "source": [
    "## Users not connected over X days"
   ]
  },
  {
   "cell_type": "code",
   "execution_count": 11,
   "metadata": {},
   "outputs": [
    {
     "name": "stdout",
     "output_type": "stream",
     "text": [
      "23\n",
      "User ID: 3ba25803-a027-493a-8445-2d13685dcae2, Name: Atencion cliente Tabacalera\n",
      "User ID: 690ea146-1ebe-48b0-a361-5a3a328d3c1d, Name: Comunicaciones FDC\n",
      "User ID: f2fe093b-f201-4ade-a92c-9e59d292cc75, Name: Digitador Tabaco\n",
      "User ID: d8e85e22-f4dd-4441-8754-97400e8fae35, Name: Premium connection\n",
      "User ID: c9a74f98-b5fb-46bb-9b60-593c72005745, Name: Comunicación Tabacalera\n",
      "User ID: a356ba03-dc21-46c9-82ee-08dc02b38210, Name: FDC Test User\n",
      "User ID: 0c63a527-3d9c-4534-865d-d672ae25e5ce, Name: Ramirez, Francisca\n",
      "User ID: 7a5cc711-053e-466b-9949-e8d37ca8edcc, Name: HRPortal-noreply\n",
      "User ID: 9573c9fe-e056-48fc-9667-e9b6f0029554, Name: Impresora_FDC\n",
      "User ID: a3698c4e-1397-4f98-8046-452a8a42b28c, Name: Aguilar, Jose Edgardo\n",
      "User ID: e807cde1-6310-4e39-96b2-93c47059c062, Name: Yrrizarri, Lorenzo\n",
      "User ID: 23277739-ad97-427e-9f9c-2d29fb436998, Name: Polycom\n",
      "User ID: f6423643-7bc1-47ce-8e55-dc5f58f38d41, Name: Registros Promocigar\n",
      "User ID: 6662cef8-0603-46b5-9668-9f06da5f4593, Name: RRHH Externo\n",
      "User ID: a2dae737-e7c6-488f-a37c-2ada91e9d71a, Name: SupportPortalPMC\n",
      "User ID: 79557304-ad7f-4dfc-9ea3-ef7f92868515, Name: SVC_ENT_Alerts\n",
      "User ID: 42ca220c-b5af-49c4-8a5b-de3be2b1723c, Name: SVC_ENT_Backup\n",
      "User ID: 37b227bb-e717-4016-8c2d-d3c6b9398c46, Name: Tabacalera News\n",
      "User ID: c05b5dcb-f3cf-40e0-841c-bb6e70da58cb, Name: Tarik Ben Lahmar\n",
      "User ID: 90042398-f05b-4405-8690-f695079ff3e4, Name: tdg.galera1\n",
      "User ID: 48104070-3731-4a16-9515-6fbe6f2e046f, Name: tdg.galera2\n",
      "User ID: 70af1df8-f349-4a98-a019-1c45a1eacf06, Name: tdg.galera3\n",
      "User ID: ef3c4590-1463-42e6-b3b6-a68285cf2fc5, Name: TDG Test User\n"
     ]
    }
   ],
   "source": [
    "index = \"ms_users\"\n",
    "\n",
    "query = {\n",
    "    \"query\": {\n",
    "        \"bool\": {\n",
    "            \"filter\": [\n",
    "                {\n",
    "                    \"range\": {\n",
    "                        \"last_signin\": {\n",
    "                            \"lt\": \"now-1M/M\"\n",
    "                        }\n",
    "                    }\n",
    "                },\n",
    "                {\n",
    "                    \"term\": {\n",
    "                        \"accountEnabled\": {\n",
    "                            \"value\": True\n",
    "                        }\n",
    "                    }\n",
    "                }\n",
    "            ],\n",
    "            \"must\": [\n",
    "                {\n",
    "                    \"terms\": {\n",
    "                        \"assignedLicenses.name.keyword\": [\"E3\", \"threat_protection\"]\n",
    "                    }\n",
    "                }\n",
    "            ]\n",
    "\n",
    "        }\n",
    "    },\n",
    "    \"size\": 100\n",
    "}\n",
    "\n",
    "\n",
    "response = es.search(index=index, body=query)\n",
    "print(response[\"hits\"][\"total\"][\"value\"])\n",
    "\n",
    "for hit in response['hits']['hits']:\n",
    "    # Assuming the user's name or ID is stored under a field named 'displayName' or '_id'\n",
    "    user_name = hit['_source'].get('displayName', 'No Name')\n",
    "    user_id = hit['_id']\n",
    "    print(f'User ID: {user_id}, Name: {user_name}')"
   ]
  },
  {
   "cell_type": "markdown",
   "metadata": {
    "jp-MarkdownHeadingCollapsed": true
   },
   "source": [
    "# Search engines (search multimatch)"
   ]
  },
  {
   "cell_type": "markdown",
   "metadata": {},
   "source": [
    "## User searcher\n"
   ]
  },
  {
   "cell_type": "code",
   "execution_count": null,
   "metadata": {},
   "outputs": [],
   "source": [
    "response = es.search(\n",
    "    index=\"ms_users\",\n",
    "    query={\n",
    "        \"multi_match\": {\n",
    "            \"query\":    \"victor gutierrez\",\n",
    "            \"fields\": [\"displayName\", \"deviceDisplayName\"]\n",
    "        }\n",
    "    }\n",
    ")\n",
    "\n",
    "print(json.dumps(dict(response), indent=2))\n",
    "print(json.dumps(response[\"hits\"][\"hits\"][0][\"_source\"][\"mail\"], indent=2))"
   ]
  },
  {
   "cell_type": "markdown",
   "metadata": {
    "jp-MarkdownHeadingCollapsed": true
   },
   "source": [
    "# Reindex"
   ]
  },
  {
   "cell_type": "code",
   "execution_count": 7,
   "metadata": {},
   "outputs": [
    {
     "name": "stdout",
     "output_type": "stream",
     "text": [
      "Datos reindexados de ms_users2 a ms_users.\n"
     ]
    }
   ],
   "source": [
    "new_index_name = \"ms_users\"\n",
    "old_index_name = \"ms_users2\"\n",
    "\n",
    "reindex_body = {\n",
    "    \"source\": {\"index\": old_index_name},\n",
    "    \"dest\": {\"index\": new_index_name}\n",
    "}\n",
    "es.reindex(body=reindex_body)\n",
    "\n",
    "print(f\"Datos reindexados de {old_index_name} a {new_index_name}.\")"
   ]
  },
  {
   "cell_type": "markdown",
   "metadata": {},
   "source": [
    "## With a filter"
   ]
  },
  {
   "cell_type": "code",
   "execution_count": 3,
   "metadata": {},
   "outputs": [
    {
     "name": "stdout",
     "output_type": "stream",
     "text": [
      "Los datos se estan reindexando de logs-ms_singins a logs-ms_signins_interactive.\n"
     ]
    }
   ],
   "source": [
    "new_index_name = \"logs-ms_signins_interactive\"\n",
    "old_index_name = \"logs-ms_singins\"\n",
    "\n",
    "field_key = \"isInteractive\"\n",
    "field_value = True\n",
    "\n",
    "reindex_body = {\n",
    "  \"source\": {\n",
    "    \"index\": old_index_name,\n",
    "    \"query\": {\n",
    "      \"match\": {\n",
    "        field_key: field_value\n",
    "      }\n",
    "    }\n",
    "  },\n",
    "  \"dest\": {\n",
    "    \"index\": new_index_name\n",
    "  }\n",
    "}\n",
    "\n",
    "es.reindex(body=reindex_body, wait_for_completion=False)\n",
    "\n",
    "print(f\"Los datos se estan reindexando de {old_index_name} a {new_index_name}.\")"
   ]
  },
  {
   "cell_type": "markdown",
   "metadata": {
    "jp-MarkdownHeadingCollapsed": true
   },
   "source": [
    "# Delete a field of a index"
   ]
  },
  {
   "cell_type": "code",
   "execution_count": 3,
   "metadata": {},
   "outputs": [
    {
     "name": "stdout",
     "output_type": "stream",
     "text": [
      "{'took': 5, 'timed_out': False, 'total': 0, 'updated': 0, 'deleted': 0, 'batches': 0, 'version_conflicts': 0, 'noops': 0, 'retries': {'bulk': 0, 'search': 0}, 'throttled_millis': 0, 'requests_per_second': -1.0, 'throttled_until_millis': 0, 'failures': []}\n"
     ]
    }
   ],
   "source": [
    "index = \"ms_users\"\n",
    "field_key = \"last_singin\"\n",
    "# The script to remove the field from all documents\n",
    "script = {\n",
    "    \"script\": {\n",
    "        \"source\": f\"ctx._source.remove('{field_key}')\",\n",
    "        \"lang\": \"painless\"\n",
    "    },\n",
    "    \"query\": {\n",
    "        \"exists\": {\n",
    "            \"field\": field_key\n",
    "        }\n",
    "    }\n",
    "}\n",
    "\n",
    "# Execute the Update By Query API to delete the field\n",
    "response = es.update_by_query(index=index, body=script, refresh=True)\n",
    "\n",
    "# Print the response\n",
    "print(response)"
   ]
  }
 ],
 "metadata": {
  "kernelspec": {
   "display_name": "Python 3 (ipykernel)",
   "language": "python",
   "name": "python3"
  },
  "language_info": {
   "codemirror_mode": {
    "name": "ipython",
    "version": 3
   },
   "file_extension": ".py",
   "mimetype": "text/x-python",
   "name": "python",
   "nbconvert_exporter": "python",
   "pygments_lexer": "ipython3",
   "version": "3.12.0"
  }
 },
 "nbformat": 4,
 "nbformat_minor": 4
}
