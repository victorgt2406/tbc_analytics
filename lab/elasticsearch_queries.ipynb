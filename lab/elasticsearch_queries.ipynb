{
 "cells": [
  {
   "cell_type": "markdown",
   "metadata": {},
   "source": [
    "# Elasticsearch Queries\n"
   ]
  },
  {
   "cell_type": "markdown",
   "metadata": {},
   "source": [
    "## Setup\n"
   ]
  },
  {
   "cell_type": "code",
   "execution_count": 1,
   "metadata": {},
   "outputs": [
    {
     "name": "stdout",
     "output_type": "stream",
     "text": [
      "Elasticsearch: Connection sucessful\n"
     ]
    }
   ],
   "source": [
    "from datetime import datetime, timezone\n",
    "from elasticsearch import Elasticsearch\n",
    "import sys\n",
    "sys.path.append('..')\n",
    "import os\n",
    "os.chdir('../')\n",
    "from connectors.elk import Elk\n",
    "elk = Elk()\n",
    "es:Elasticsearch = elk.es"
   ]
  },
  {
   "cell_type": "markdown",
   "metadata": {},
   "source": [
    "## Users not connected from more than X days\n"
   ]
  },
  {
   "cell_type": "code",
   "execution_count": null,
   "metadata": {},
   "outputs": [],
   "source": [
    "from datetime import datetime, timedelta\n",
    "\n",
    "# Definición de la consulta con top_hits para obtener detalles adicionales\n",
    "query = {\n",
    "    \"size\": 0,\n",
    "    \"aggs\": {\n",
    "        \"users\": {\n",
    "            \"terms\": {\n",
    "                \"field\": \"userId.keyword\",\n",
    "                \"size\": 10000  # Ajusta este número según la cantidad esperada de usuarios\n",
    "            },\n",
    "            \"aggs\": {\n",
    "                \"latest_login\": {\n",
    "                    \"max\": {\n",
    "                        \"field\": \"@timestamp\"\n",
    "                    }\n",
    "                },\n",
    "                \"top_user_info\": {\n",
    "                    \"top_hits\": {\n",
    "                        \"sort\": [\n",
    "                            {\n",
    "                                \"@timestamp\": {\n",
    "                                    \"order\": \"desc\"\n",
    "                                }\n",
    "                            }\n",
    "                        ],\n",
    "                        \"_source\": {\n",
    "                            \"includes\": [\"userDisplayName\", \"deviceDetail.displayName\"]\n",
    "                        },\n",
    "                        \"size\": 1\n",
    "                    }\n",
    "                }\n",
    "            }\n",
    "        }\n",
    "    }\n",
    "}\n",
    "\n",
    "# Realiza la consulta\n",
    "# Asegúrate de cambiarlo por el nombre real de tu índice\n",
    "new_index_name = \"logs-ms_singins\"\n",
    "result = es.search(index=new_index_name, body=query)\n",
    "\n",
    "# Extrae y ordena los resultados por la fecha de última conexión de manera ascendente\n",
    "users_last_login = []\n",
    "for bucket in result['aggregations']['users']['buckets']:\n",
    "    user_id = bucket['key']\n",
    "    last_login_timestamp = bucket['latest_login']['value_as_string']\n",
    "    user_info = bucket['top_user_info']['hits']['hits'][0]['_source']\n",
    "    user_display_name = user_info.get('userDisplayName', 'N/A')\n",
    "    device_display_name = user_info.get(\n",
    "        'deviceDetail', {}).get('displayName', 'N/A')\n",
    "    users_last_login.append(\n",
    "        (user_id, user_display_name, device_display_name, last_login_timestamp))\n",
    "\n",
    "# Ordena por la fecha de última conexión de manera ascendente\n",
    "users_last_login_sorted = sorted(users_last_login, key=lambda x: x[3])\n",
    "\n",
    "# Define el formato de fecha utilizado en tus timestamps\n",
    "fecha_formato = \"%Y-%m-%dT%H:%M:%S.%fZ\"\n",
    "\n",
    "# Calcula la fecha límite para los usuarios inactivos (hace más de 30 días)\n",
    "limite_inactividad = datetime.now() - timedelta(days=30)\n",
    "\n",
    "# Filtra los usuarios inactivos por más de 30 días\n",
    "usuarios_inactivos = []\n",
    "for user in users_last_login_sorted:\n",
    "    user_id, user_display_name, device_display_name, last_login_str = user\n",
    "    last_login = datetime.strptime(last_login_str, fecha_formato)\n",
    "\n",
    "    if last_login < limite_inactividad:\n",
    "        usuarios_inactivos.append(user)\n",
    "\n",
    "# Imprime los usuarios inactivos\n",
    "for user in usuarios_inactivos:\n",
    "    print(user)"
   ]
  },
  {
   "cell_type": "markdown",
   "metadata": {},
   "source": [
    "## User searcher\n"
   ]
  },
  {
   "cell_type": "code",
   "execution_count": null,
   "metadata": {},
   "outputs": [],
   "source": [
    "response = es.search(\n",
    "    index=\"ms_users\",\n",
    "    query={\n",
    "        \"multi_match\": {\n",
    "            \"query\":    \"victor gutierrez\",\n",
    "            \"fields\": [\"displayName\", \"deviceDisplayName\"]\n",
    "        }\n",
    "    }\n",
    ")\n",
    "\n",
    "print(json.dumps(dict(response), indent=2))\n",
    "print(json.dumps(response[\"hits\"][\"hits\"][0][\"_source\"][\"mail\"], indent=2))"
   ]
  },
  {
   "cell_type": "markdown",
   "metadata": {},
   "source": []
  },
  {
   "cell_type": "markdown",
   "metadata": {},
   "source": [
    "## Last connection from a user\n"
   ]
  },
  {
   "cell_type": "code",
   "execution_count": null,
   "metadata": {},
   "outputs": [],
   "source": [
    "# Define el userId para el cual quieres obtener la última conexión\n",
    "user_id = \"21bf1acf-0ebe-420e-b385-9d4014a11406\"\n",
    "\n",
    "# Construye la consulta\n",
    "query = {\n",
    "    \"query\": {\n",
    "        \"match\": {\n",
    "            \"userId\": user_id\n",
    "        }\n",
    "    },\n",
    "    \"sort\": [\n",
    "        {\n",
    "            \"@timestamp\": {\n",
    "                \"order\": \"desc\"\n",
    "            }\n",
    "        }\n",
    "    ],\n",
    "    \"size\": 1\n",
    "}\n",
    "\n",
    "# Realiza la consulta al índice deseado\n",
    "new_index_name = \"logs-ms_singins\"\n",
    "response = es.search(index=new_index_name, body=query)\n",
    "\n",
    "\n",
    "print(json.dumps(dict(response), indent=4))\n",
    "\n",
    "# Extrae y muestra la información relevante de la respuesta\n",
    "if response[\"hits\"][\"hits\"]:\n",
    "    last_login = response[\"hits\"][\"hits\"][0][\"_source\"]\n",
    "    print(f\"Última conexión de {last_login['userDisplayName']} ({last_login['userPrincipalName']}):\")\n",
    "    print(f\"Fecha y hora: {last_login['@timestamp']}\")\n",
    "    print(f\"IP: {last_login['ipAddress']}\")\n",
    "    print(f\"Dispositivo: {last_login['deviceDetail']['displayName']}, {last_login['deviceDetail']['operatingSystem']}\")\n",
    "else:\n",
    "    print(\"No se encontraron conexiones para el usuario especificado.\")"
   ]
  },
  {
   "cell_type": "markdown",
   "metadata": {},
   "source": [
    "# Reindex"
   ]
  },
  {
   "cell_type": "code",
   "execution_count": null,
   "metadata": {},
   "outputs": [],
   "source": [
    "new_index_name = \"ms_users\"\n",
    "old_index_name = \"ms_users2\"\n",
    "\n",
    "reindex_body = {\n",
    "    \"source\": {\"index\": old_index_name},\n",
    "    \"dest\": {\"index\": new_index_name}\n",
    "}\n",
    "es.reindex(body=reindex_body)\n",
    "\n",
    "print(f\"Datos reindexados de {old_index_name} a {new_index_name}.\")"
   ]
  },
  {
   "cell_type": "markdown",
   "metadata": {},
   "source": [
    "## With a filter"
   ]
  },
  {
   "cell_type": "code",
   "execution_count": 3,
   "metadata": {},
   "outputs": [
    {
     "name": "stdout",
     "output_type": "stream",
     "text": [
      "Los datos se estan reindexando de logs-ms_singins a logs-ms_signins_interactive.\n"
     ]
    }
   ],
   "source": [
    "new_index_name = \"logs-ms_signins_interactive\"\n",
    "old_index_name = \"logs-ms_singins\"\n",
    "\n",
    "field_key = \"isInteractive\"\n",
    "field_value = True\n",
    "\n",
    "reindex_body = {\n",
    "  \"source\": {\n",
    "    \"index\": old_index_name,\n",
    "    \"query\": {\n",
    "      \"match\": {\n",
    "        field_key: field_value\n",
    "      }\n",
    "    }\n",
    "  },\n",
    "  \"dest\": {\n",
    "    \"index\": new_index_name\n",
    "  }\n",
    "}\n",
    "\n",
    "es.reindex(body=reindex_body, wait_for_completion=False)\n",
    "\n",
    "print(f\"Los datos se estan reindexando de {old_index_name} a {new_index_name}.\")"
   ]
  }
 ],
 "metadata": {
  "kernelspec": {
   "display_name": "elk",
   "language": "python",
   "name": "python3"
  },
  "language_info": {
   "codemirror_mode": {
    "name": "ipython",
    "version": 3
   },
   "file_extension": ".py",
   "mimetype": "text/x-python",
   "name": "python",
   "nbconvert_exporter": "python",
   "pygments_lexer": "ipython3",
   "version": "3.12.2"
  }
 },
 "nbformat": 4,
 "nbformat_minor": 2
}
