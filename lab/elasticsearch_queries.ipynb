{
 "cells": [
  {
   "cell_type": "markdown",
   "metadata": {},
   "source": [
    "# Elasticsearch Queries"
   ]
  },
  {
   "cell_type": "markdown",
   "metadata": {},
   "source": [
    "## Setup"
   ]
  },
  {
   "cell_type": "code",
   "execution_count": 24,
   "metadata": {},
   "outputs": [
    {
     "name": "stdout",
     "output_type": "stream",
     "text": [
      "Elasticsearch: Connection sucessful\n"
     ]
    }
   ],
   "source": [
    "import sys\n",
    "import json\n",
    "sys.path.append('..')\n",
    "from connectors.elk import Elk\n",
    "\n",
    "elk = Elk()\n",
    "es = elk.es"
   ]
  },
  {
   "cell_type": "markdown",
   "metadata": {},
   "source": [
    "## Users not connected from more than X days"
   ]
  },
  {
   "cell_type": "code",
   "execution_count": 31,
   "metadata": {},
   "outputs": [
    {
     "name": "stdout",
     "output_type": "stream",
     "text": [
      "('8f20ce5e-0da7-432d-a91f-c04614c406c4', 'Santana, Fernando', '', '2024-01-24T20:34:50.000Z')\n",
      "('77d6c11b-92a4-45c6-be2e-e6043f11ff00', 'Cabral, Ivonne', '', '2024-01-25T14:02:57.000Z')\n",
      "('90042398-f05b-4405-8690-f695079ff3e4', 'tdg.galera1', '', '2024-01-25T14:22:30.000Z')\n",
      "('517439f8-c726-4f42-a251-3f7de24b1015', 'Gutierres Tovar, Victor', '', '2024-01-26T09:34:00.000Z')\n",
      "('78678837-7233-4487-8646-891964de3b68', 'Tabacalera Reports', '', '2024-01-29T07:56:43.000Z')\n"
     ]
    }
   ],
   "source": [
    "from datetime import datetime, timedelta\n",
    "\n",
    "# Definición de la consulta con top_hits para obtener detalles adicionales\n",
    "query = {\n",
    "  \"size\": 0,\n",
    "  \"aggs\": {\n",
    "    \"users\": {\n",
    "      \"terms\": {\n",
    "        \"field\": \"userId.keyword\",\n",
    "        \"size\": 10000  # Ajusta este número según la cantidad esperada de usuarios\n",
    "      },\n",
    "      \"aggs\": {\n",
    "        \"latest_login\": {\n",
    "          \"max\": {\n",
    "            \"field\": \"@timestamp\"\n",
    "          }\n",
    "        },\n",
    "        \"top_user_info\": {\n",
    "          \"top_hits\": {\n",
    "            \"sort\": [\n",
    "              {\n",
    "                \"@timestamp\": {\n",
    "                  \"order\": \"desc\"\n",
    "                }\n",
    "              }\n",
    "            ],\n",
    "            \"_source\": {\n",
    "              \"includes\": [\"userDisplayName\", \"deviceDetail.displayName\"]\n",
    "            },\n",
    "            \"size\": 1\n",
    "          }\n",
    "        }\n",
    "      }\n",
    "    }\n",
    "  }\n",
    "}\n",
    "\n",
    "# Realiza la consulta\n",
    "index_name = \"logs-ms_singins\"  # Asegúrate de cambiarlo por el nombre real de tu índice\n",
    "result = es.search(index=index_name, body=query)\n",
    "\n",
    "# Extrae y ordena los resultados por la fecha de última conexión de manera ascendente\n",
    "users_last_login = []\n",
    "for bucket in result['aggregations']['users']['buckets']:\n",
    "    user_id = bucket['key']\n",
    "    last_login_timestamp = bucket['latest_login']['value_as_string']\n",
    "    user_info = bucket['top_user_info']['hits']['hits'][0]['_source']\n",
    "    user_display_name = user_info.get('userDisplayName', 'N/A')\n",
    "    device_display_name = user_info.get('deviceDetail', {}).get('displayName', 'N/A')\n",
    "    users_last_login.append((user_id, user_display_name, device_display_name, last_login_timestamp))\n",
    "\n",
    "# Ordena por la fecha de última conexión de manera ascendente\n",
    "users_last_login_sorted = sorted(users_last_login, key=lambda x: x[3])\n",
    "\n",
    "# Define el formato de fecha utilizado en tus timestamps\n",
    "fecha_formato = \"%Y-%m-%dT%H:%M:%S.%fZ\"\n",
    "\n",
    "# Calcula la fecha límite para los usuarios inactivos (hace más de 30 días)\n",
    "limite_inactividad = datetime.now() - timedelta(days=30)\n",
    "\n",
    "# Filtra los usuarios inactivos por más de 30 días\n",
    "usuarios_inactivos = []\n",
    "for user in users_last_login_sorted:\n",
    "    user_id, user_display_name, device_display_name, last_login_str = user\n",
    "    last_login = datetime.strptime(last_login_str, fecha_formato)\n",
    "\n",
    "    if last_login < limite_inactividad:\n",
    "        usuarios_inactivos.append(user)\n",
    "\n",
    "# Imprime los usuarios inactivos\n",
    "for user in usuarios_inactivos:\n",
    "    print(user)\n",
    "\n"
   ]
  }
 ],
 "metadata": {
  "kernelspec": {
   "display_name": "elk",
   "language": "python",
   "name": "python3"
  },
  "language_info": {
   "codemirror_mode": {
    "name": "ipython",
    "version": 3
   },
   "file_extension": ".py",
   "mimetype": "text/x-python",
   "name": "python",
   "nbconvert_exporter": "python",
   "pygments_lexer": "ipython3",
   "version": "3.12.2"
  }
 },
 "nbformat": 4,
 "nbformat_minor": 2
}
