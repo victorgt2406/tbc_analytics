{
 "cells": [
  {
   "cell_type": "code",
   "execution_count": 1,
   "metadata": {},
   "outputs": [],
   "source": [
    "import os\n",
    "os.chdir('../')\n",
    "from connectors.json_filesystem import JsonFilesystem"
   ]
  },
  {
   "cell_type": "code",
   "execution_count": 4,
   "metadata": {},
   "outputs": [],
   "source": [
    "await JsonFilesystem().append_docs([{\"name\": \"user1\", \"office\": \"villarverde\"}, {\"name\": \"user2\", \"office\": \"getafe\"}], \"users\")"
   ]
  },
  {
   "cell_type": "code",
   "execution_count": 5,
   "metadata": {},
   "outputs": [
    {
     "data": {
      "text/plain": [
       "[{'name': 'user1', 'office': 'madrid'},\n",
       " {'name': 'user2', 'office': 'barcelona'},\n",
       " {'name': 'user1', 'office': 'madrid'},\n",
       " {'name': 'user2', 'office': 'barcelona'},\n",
       " {'name': 'user1', 'office': 'villarverde'},\n",
       " {'name': 'user2', 'office': 'getafe'},\n",
       " {'name': 'user1', 'office': 'villarverde'},\n",
       " {'name': 'user2', 'office': 'getafe'},\n",
       " {'name': 'user1', 'office': 'villarverde'},\n",
       " {'name': 'user2', 'office': 'getafe'},\n",
       " {'name': 'user1', 'office': 'villarverde'},\n",
       " {'name': 'user2', 'office': 'getafe'},\n",
       " {'name': 'user1', 'office': 'villarverde'},\n",
       " {'name': 'user2', 'office': 'getafe'},\n",
       " {'name': 'user1', 'office': 'villarverde'},\n",
       " {'name': 'user2', 'office': 'getafe'}]"
      ]
     },
     "execution_count": 5,
     "metadata": {},
     "output_type": "execute_result"
    }
   ],
   "source": [
    "await JsonFilesystem().load_docs(\"users\", 0, 200)"
   ]
  }
 ],
 "metadata": {
  "kernelspec": {
   "display_name": "elk",
   "language": "python",
   "name": "python3"
  },
  "language_info": {
   "codemirror_mode": {
    "name": "ipython",
    "version": 3
   },
   "file_extension": ".py",
   "mimetype": "text/x-python",
   "name": "python",
   "nbconvert_exporter": "python",
   "pygments_lexer": "ipython3",
   "version": "3.12.2"
  }
 },
 "nbformat": 4,
 "nbformat_minor": 2
}
