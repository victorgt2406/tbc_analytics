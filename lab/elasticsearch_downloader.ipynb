{
 "cells": [
  {
   "cell_type": "code",
   "execution_count": 1,
   "metadata": {},
   "outputs": [
    {
     "name": "stdout",
     "output_type": "stream",
     "text": [
      "MsGraph: token created\n",
      "Elasticsearch: Connection sucessful\n"
     ]
    }
   ],
   "source": [
    "from datetime import datetime, timezone\n",
    "import sys\n",
    "import json\n",
    "sys.path.append('..')\n",
    "import os\n",
    "os.chdir('./..')\n",
    "from connectors.msgraph import Msgraph\n",
    "from connectors.elk import Elk\n",
    "mg = Msgraph()\n",
    "elk = Elk()\n",
    "es = elk.es"
   ]
  },
  {
   "cell_type": "code",
   "execution_count": 2,
   "metadata": {},
   "outputs": [],
   "source": [
    "def fetch_all_docs(index, file_name):\n",
    "    # Initialize the scroll\n",
    "    page = es.search(\n",
    "        index=index,\n",
    "        scroll='2m',  # Keep the scroll context for 2 minutes\n",
    "        size=1000,  # Number of results per \"page\"\n",
    "        body={\n",
    "            \"query\": {\n",
    "                \"match_all\": {}  # Match all query to retrieve all documents\n",
    "            }\n",
    "        }\n",
    "    )\n",
    "    sid = page['_scroll_id']\n",
    "    scroll_size = page['hits']['total']['value']\n",
    "    # Start scrolling\n",
    "    while scroll_size > 0:\n",
    "        \"Scrolling...\"\n",
    "        # Before writing to the file, you can process your results (if needed)\n",
    "        with open(file_name, 'a', encoding='utf-8') as f:\n",
    "            for doc in page['hits']['hits']:\n",
    "                f.write(json.dumps(doc['_source'], ensure_ascii=False) + \"\\n\")\n",
    "        # Fetch the next page\n",
    "        page = es.scroll(scroll_id=sid, scroll='2m')\n",
    "        # Update the scroll ID and size\n",
    "        sid = page['_scroll_id']\n",
    "        scroll_size = len(page['hits']['hits'])"
   ]
  },
  {
   "cell_type": "code",
   "execution_count": 3,
   "metadata": {},
   "outputs": [
    {
     "name": "stderr",
     "output_type": "stream",
     "text": [
      "/tmp/ipykernel_33737/2289539765.py:3: DeprecationWarning: Received 'size' via a specific parameter in the presence of a 'body' parameter, which is deprecated and will be removed in a future version. Instead, use only 'body' or only specific paremeters.\n",
      "  page = es.search(\n"
     ]
    }
   ],
   "source": [
    "index_name = \"logs-ms_signins_interactive\"\n",
    "# Fetch all documents\n",
    "fetch_all_docs(index_name, \"logs-ms_signins_noninteractive.json\")"
   ]
  }
 ],
 "metadata": {
  "kernelspec": {
   "display_name": "elk",
   "language": "python",
   "name": "python3"
  },
  "language_info": {
   "codemirror_mode": {
    "name": "ipython",
    "version": 3
   },
   "file_extension": ".py",
   "mimetype": "text/x-python",
   "name": "python",
   "nbconvert_exporter": "python",
   "pygments_lexer": "ipython3",
   "version": "3.12.2"
  }
 },
 "nbformat": 4,
 "nbformat_minor": 2
}
